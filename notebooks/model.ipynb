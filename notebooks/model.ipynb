{
 "cells": [
  {
   "cell_type": "markdown",
   "metadata": {},
   "source": []
  },
  {
   "cell_type": "code",
   "execution_count": null,
   "metadata": {},
   "outputs": [],
   "source": [
    "\n",
    "! pip install tensorflow"
   ]
  },
  {
   "cell_type": "code",
   "execution_count": 9,
   "metadata": {},
   "outputs": [],
   "source": [
    "# Cell 1: Import Necessary Libraries\n",
    "import pandas as pd\n",
    "import numpy as np\n",
    "from sklearn.model_selection import train_test_split\n",
    "from sklearn.linear_model import LogisticRegression\n",
    "from sklearn.tree import DecisionTreeClassifier\n",
    "from sklearn.ensemble import RandomForestClassifier, GradientBoostingClassifier\n",
    "from sklearn.neural_network import MLPClassifier\n",
    "from keras.models import Sequential\n",
    "from keras.layers import Dense, LSTM, Conv2D, Flatten, Dropout\n",
    "from sklearn.metrics import classification_report, accuracy_score\n",
    "import mlflow\n",
    "import mlflow.sklearn\n"
   ]
  },
  {
   "cell_type": "code",
   "execution_count": 12,
   "metadata": {},
   "outputs": [
    {
     "name": "stdout",
     "output_type": "stream",
     "text": [
      "Credit Card Data:\n",
      "   Time        V1        V2        V3        V4        V5        V6        V7  \\\n",
      "0   0.0 -1.359807 -0.072781  2.536347  1.378155 -0.338321  0.462388  0.239599   \n",
      "1   0.0  1.191857  0.266151  0.166480  0.448154  0.060018 -0.082361 -0.078803   \n",
      "2   1.0 -1.358354 -1.340163  1.773209  0.379780 -0.503198  1.800499  0.791461   \n",
      "3   1.0 -0.966272 -0.185226  1.792993 -0.863291 -0.010309  1.247203  0.237609   \n",
      "4   2.0 -1.158233  0.877737  1.548718  0.403034 -0.407193  0.095921  0.592941   \n",
      "\n",
      "         V8        V9  ...       V21       V22       V23       V24       V25  \\\n",
      "0  0.098698  0.363787  ... -0.018307  0.277838 -0.110474  0.066928  0.128539   \n",
      "1  0.085102 -0.255425  ... -0.225775 -0.638672  0.101288 -0.339846  0.167170   \n",
      "2  0.247676 -1.514654  ...  0.247998  0.771679  0.909412 -0.689281 -0.327642   \n",
      "3  0.377436 -1.387024  ... -0.108300  0.005274 -0.190321 -1.175575  0.647376   \n",
      "4 -0.270533  0.817739  ... -0.009431  0.798278 -0.137458  0.141267 -0.206010   \n",
      "\n",
      "        V26       V27       V28  Amount  Class  \n",
      "0 -0.189115  0.133558 -0.021053  149.62      0  \n",
      "1  0.125895 -0.008983  0.014724    2.69      0  \n",
      "2 -0.139097 -0.055353 -0.059752  378.66      0  \n",
      "3 -0.221929  0.062723  0.061458  123.50      0  \n",
      "4  0.502292  0.219422  0.215153   69.99      0  \n",
      "\n",
      "[5 rows x 31 columns]\n",
      "\n",
      "Fraud Data:\n",
      "   user_id          signup_time        purchase_time  purchase_value  \\\n",
      "0    22058  2015-02-24 22:55:49  2015-04-18 02:47:11              34   \n",
      "1   333320  2015-06-07 20:39:50  2015-06-08 01:38:54              16   \n",
      "2     1359  2015-01-01 18:52:44  2015-01-01 18:52:45              15   \n",
      "3   150084  2015-04-28 21:13:25  2015-05-04 13:54:50              44   \n",
      "4   221365  2015-07-21 07:09:52  2015-09-09 18:40:53              39   \n",
      "\n",
      "       device_id source browser sex  age    ip_address  class  \n",
      "0  QVPSPJUOCKZAR    SEO  Chrome   M   39  7.327584e+08      0  \n",
      "1  EOGFQPIZPYXFZ    Ads  Chrome   F   53  3.503114e+08      0  \n",
      "2  YSSKYOSJHPPLJ    SEO   Opera   M   53  2.621474e+09      1  \n",
      "3  ATGTXKYKUDUQN    SEO  Safari   M   41  3.840542e+09      0  \n",
      "4  NAUITBZFJKHWW    Ads  Safari   M   45  4.155831e+08      0  \n"
     ]
    }
   ],
   "source": [
    "# Load the credit card and fraud datasets\n",
    "creditcard_data = pd.read_csv('../data/creditcard.csv')\n",
    "fraud_data = pd.read_csv('../data/Fraud_Data.csv')\n",
    "\n",
    "# Display the first few rows of each dataset\n",
    "print(\"Credit Card Data:\")\n",
    "print(creditcard_data.head())\n",
    "print(\"\\nFraud Data:\")\n",
    "print(fraud_data.head())\n"
   ]
  },
  {
   "cell_type": "code",
   "execution_count": 13,
   "metadata": {},
   "outputs": [],
   "source": [
    "# Feature and target separation for credit card data\n",
    "X_creditcard = creditcard_data.drop(columns=['Class'])\n",
    "y_creditcard = creditcard_data['Class']\n",
    "\n",
    "# Feature and target separation for fraud data\n",
    "X_fraud = fraud_data.drop(columns=['class'])\n",
    "y_fraud = fraud_data['class']\n"
   ]
  },
  {
   "cell_type": "code",
   "execution_count": 14,
   "metadata": {},
   "outputs": [],
   "source": [
    "# Train-test split for credit card data\n",
    "X_train_creditcard, X_test_creditcard, y_train_creditcard, y_test_creditcard = train_test_split(\n",
    "    X_creditcard, y_creditcard, test_size=0.2, random_state=42, stratify=y_creditcard\n",
    ")\n",
    "\n",
    "# Train-test split for fraud data\n",
    "X_train_fraud, X_test_fraud, y_train_fraud, y_test_fraud = train_test_split(\n",
    "    X_fraud, y_fraud, test_size=0.2, random_state=42, stratify=y_fraud\n",
    ")"
   ]
  },
  {
   "cell_type": "code",
   "execution_count": 15,
   "metadata": {},
   "outputs": [
    {
     "name": "stdout",
     "output_type": "stream",
     "text": [
      "Logistic Regression on Credit Card Data:\n",
      "              precision    recall  f1-score   support\n",
      "\n",
      "           0       1.00      1.00      1.00     56864\n",
      "           1       0.83      0.66      0.74        98\n",
      "\n",
      "    accuracy                           1.00     56962\n",
      "   macro avg       0.92      0.83      0.87     56962\n",
      "weighted avg       1.00      1.00      1.00     56962\n",
      "\n"
     ]
    },
    {
     "name": "stderr",
     "output_type": "stream",
     "text": [
      "/home/sa/Documents/GitHub/kifiya-week-8-9/.venv/lib/python3.10/site-packages/sklearn/linear_model/_logistic.py:469: ConvergenceWarning: lbfgs failed to converge (status=1):\n",
      "STOP: TOTAL NO. of ITERATIONS REACHED LIMIT.\n",
      "\n",
      "Increase the number of iterations (max_iter) or scale the data as shown in:\n",
      "    https://scikit-learn.org/stable/modules/preprocessing.html\n",
      "Please also refer to the documentation for alternative solver options:\n",
      "    https://scikit-learn.org/stable/modules/linear_model.html#logistic-regression\n",
      "  n_iter_i = _check_optimize_result(\n"
     ]
    }
   ],
   "source": [
    "# Logistic Regression for credit card data\n",
    "log_reg = LogisticRegression(max_iter=1000)\n",
    "log_reg.fit(X_train_creditcard, y_train_creditcard)\n",
    "y_pred_creditcard_log_reg = log_reg.predict(X_test_creditcard)\n",
    "\n",
    "# Evaluation\n",
    "print(\"Logistic Regression on Credit Card Data:\")\n",
    "print(classification_report(y_test_creditcard, y_pred_creditcard_log_reg))\n"
   ]
  },
  {
   "cell_type": "code",
   "execution_count": 16,
   "metadata": {},
   "outputs": [
    {
     "name": "stdout",
     "output_type": "stream",
     "text": [
      "Decision Tree on Credit Card Data:\n",
      "              precision    recall  f1-score   support\n",
      "\n",
      "           0       1.00      1.00      1.00     56864\n",
      "           1       0.72      0.73      0.73        98\n",
      "\n",
      "    accuracy                           1.00     56962\n",
      "   macro avg       0.86      0.87      0.86     56962\n",
      "weighted avg       1.00      1.00      1.00     56962\n",
      "\n"
     ]
    }
   ],
   "source": [
    "# Decision Tree for credit card data\n",
    "decision_tree = DecisionTreeClassifier()\n",
    "decision_tree.fit(X_train_creditcard, y_train_creditcard)\n",
    "y_pred_creditcard_tree = decision_tree.predict(X_test_creditcard)\n",
    "\n",
    "# Evaluation\n",
    "print(\"Decision Tree on Credit Card Data:\")\n",
    "print(classification_report(y_test_creditcard, y_pred_creditcard_tree))\n"
   ]
  },
  {
   "cell_type": "code",
   "execution_count": 17,
   "metadata": {},
   "outputs": [
    {
     "name": "stdout",
     "output_type": "stream",
     "text": [
      "Random Forest on Credit Card Data:\n",
      "              precision    recall  f1-score   support\n",
      "\n",
      "           0       1.00      1.00      1.00     56864\n",
      "           1       0.94      0.83      0.88        98\n",
      "\n",
      "    accuracy                           1.00     56962\n",
      "   macro avg       0.97      0.91      0.94     56962\n",
      "weighted avg       1.00      1.00      1.00     56962\n",
      "\n"
     ]
    }
   ],
   "source": [
    "# Random Forest for credit card data\n",
    "random_forest = RandomForestClassifier()\n",
    "random_forest.fit(X_train_creditcard, y_train_creditcard)\n",
    "y_pred_creditcard_rf = random_forest.predict(X_test_creditcard)\n",
    "\n",
    "# Evaluation\n",
    "print(\"Random Forest on Credit Card Data:\")\n",
    "print(classification_report(y_test_creditcard, y_pred_creditcard_rf))\n"
   ]
  },
  {
   "cell_type": "code",
   "execution_count": 18,
   "metadata": {},
   "outputs": [],
   "source": [
    "# Gradient Boosting for credit card data\n",
    "gradient_boosting = GradientBoostingClassifier()\n",
    "gradient_boosting.fit(X_train_creditcard, y_train_creditcard)\n",
    "y_pred_creditcard_gb = gradient_boosting.predict(X_test_creditcard)\n",
    "\n",
    "# Evaluation\n",
    "print(\"Gradient Boosting on Credit Card Data:\")\n",
    "print(classification_report(y_test_creditcard, y_pred_creditcard_gb))\n"
   ]
  },
  {
   "cell_type": "code",
   "execution_count": null,
   "metadata": {},
   "outputs": [],
   "source": [
    "# MLP for credit card data\n",
    "mlp = MLPClassifier(max_iter=500)\n",
    "mlp.fit(X_train_creditcard, y_train_creditcard)\n",
    "y_pred_creditcard_mlp = mlp.predict(X_test_creditcard)\n",
    "\n",
    "# Evaluation\n",
    "print(\"MLP on Credit Card Data:\")\n",
    "print(classification_report(y_test_creditcard, y_pred_creditcard_mlp))\n"
   ]
  },
  {
   "cell_type": "code",
   "execution_count": null,
   "metadata": {},
   "outputs": [],
   "source": [
    "# Reshape data for CNN (assuming 2D input for simplicity)\n",
    "X_train_cnn = X_train_creditcard.values.reshape(-1, 28, 28, 1)  \n",
    "X_test_cnn = X_test_creditcard.values.reshape(-1, 28, 28, 1)\n",
    "\n",
    "# CNN Model\n",
    "cnn_model = Sequential([\n",
    "    Conv2D(32, (3, 3), activation='relu', input_shape=(28, 28, 1)),\n",
    "    Flatten(),\n",
    "    Dense(64, activation='relu'),\n",
    "    Dense(1, activation='sigmoid')\n",
    "])\n",
    "\n",
    "cnn_model.compile(optimizer='adam', loss='binary_crossentropy', metrics=['accuracy'])\n",
    "cnn_model.fit(X_train_cnn, y_train_creditcard, epochs=10, batch_size=32)\n",
    "\n",
    "# Evaluation\n",
    "cnn_loss, cnn_accuracy = cnn_model.evaluate(X_test_cnn, y_test_creditcard)\n",
    "print(f\"CNN Accuracy on Credit Card Data: {cnn_accuracy}\")\n"
   ]
  },
  {
   "cell_type": "code",
   "execution_count": null,
   "metadata": {},
   "outputs": [],
   "source": [
    "# Reshape data for LSTM\n",
    "X_train_lstm = X_train_creditcard.values.reshape((X_train_creditcard.shape[0], 1, X_train_creditcard.shape[1]))\n",
    "X_test_lstm = X_test_creditcard.values.reshape((X_test_creditcard.shape[0], 1, X_test_creditcard.shape[1]))\n",
    "\n",
    "# LSTM Model\n",
    "lstm_model = Sequential([\n",
    "    LSTM(50, return_sequences=True, input_shape=(1, X_train_creditcard.shape[1])),\n",
    "    LSTM(50),\n",
    "    Dense(1, activation='sigmoid')\n",
    "])\n",
    "\n",
    "lstm_model.compile(optimizer='adam', loss='binary_crossentropy', metrics=['accuracy'])\n",
    "lstm_model.fit(X_train_lstm, y_train_creditcard, epochs=10, batch_size=32)\n",
    "\n",
    "# Evaluation\n",
    "lstm_loss, lstm_accuracy = lstm_model.evaluate(X_test_lstm, y_test_creditcard)\n",
    "print(f\"LSTM Accuracy on Credit Card Data: {lstm_accuracy}\")\n"
   ]
  },
  {
   "cell_type": "code",
   "execution_count": null,
   "metadata": {},
   "outputs": [],
   "source": [
    "# Set the experiment name\n",
    "experiment_name = \"Fraud_Detection_Experiment\" \n",
    "mlflow.set_experiment(experiment_name)\n",
    "\n",
    "# Start an MLflow run to log metrics and models\n",
    "with mlflow.start_run():\n",
    "    mlflow.log_param(\"model_type\", \"Logistic Regression\")\n",
    "    mlflow.log_param(\"test_size\", 0.2)\n",
    "    mlflow.log_metric(\"accuracy\", accuracy_score(y_test_creditcard, y_pred_creditcard_log_reg))\n",
    "    \n",
    "    # Log the Logistic Regression model\n",
    "    mlflow.sklearn.log_model(log_reg, \"logistic_regression_model\")\n",
    "\n"
   ]
  }
 ],
 "metadata": {
  "kernelspec": {
   "display_name": ".venv",
   "language": "python",
   "name": "python3"
  },
  "language_info": {
   "codemirror_mode": {
    "name": "ipython",
    "version": 3
   },
   "file_extension": ".py",
   "mimetype": "text/x-python",
   "name": "python",
   "nbconvert_exporter": "python",
   "pygments_lexer": "ipython3",
   "version": "3.10.12"
  }
 },
 "nbformat": 4,
 "nbformat_minor": 2
}
